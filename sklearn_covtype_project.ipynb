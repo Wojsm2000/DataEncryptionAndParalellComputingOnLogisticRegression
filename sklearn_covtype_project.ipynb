{
  "cells": [
    {
      "cell_type": "code",
      "execution_count": 2,
      "id": "6N86o6B69HTQ",
      "metadata": {
        "colab": {
          "base_uri": "https://localhost:8080/"
        },
        "id": "6N86o6B69HTQ",
        "outputId": "ab62c329-ad68-485f-8e56-a624f050bd09"
      },
      "outputs": [
        {
          "name": "stdout",
          "output_type": "stream",
          "text": [
            "Collecting tenseal\n",
            "  Downloading tenseal-0.3.16-cp311-cp311-manylinux_2_27_x86_64.manylinux_2_28_x86_64.whl.metadata (8.4 kB)\n",
            "Downloading tenseal-0.3.16-cp311-cp311-manylinux_2_27_x86_64.manylinux_2_28_x86_64.whl (4.8 MB)\n",
            "\u001b[?25l   \u001b[90m━━━━━━━━━━━━━━━━━━━━━━━━━━━━━━━━━━━━━━━━\u001b[0m \u001b[32m0.0/4.8 MB\u001b[0m \u001b[31m?\u001b[0m eta \u001b[36m-:--:--\u001b[0m\r\u001b[2K   \u001b[91m━━━━━━━━━━━━━━━━━━━━━━━━━━━━━━━━━━━━━━━\u001b[0m\u001b[91m╸\u001b[0m \u001b[32m4.8/4.8 MB\u001b[0m \u001b[31m218.5 MB/s\u001b[0m eta \u001b[36m0:00:01\u001b[0m\r\u001b[2K   \u001b[90m━━━━━━━━━━━━━━━━━━━━━━━━━━━━━━━━━━━━━━━━\u001b[0m \u001b[32m4.8/4.8 MB\u001b[0m \u001b[31m117.6 MB/s\u001b[0m eta \u001b[36m0:00:00\u001b[0m\n",
            "\u001b[?25hInstalling collected packages: tenseal\n",
            "Successfully installed tenseal-0.3.16\n"
          ]
        }
      ],
      "source": [
        "!pip install tenseal"
      ]
    },
    {
      "cell_type": "code",
      "execution_count": 3,
      "id": "_rwJGOTO855a",
      "metadata": {
        "id": "_rwJGOTO855a"
      },
      "outputs": [],
      "source": [
        "import tenseal as ts\n",
        "import pandas as pd\n",
        "import random\n",
        "from time import time\n",
        "import numpy as np\n",
        "import matplotlib.pyplot as plt\n",
        "from sklearn import datasets\n",
        "from sklearn.model_selection import train_test_split\n",
        "from sklearn.linear_model import LogisticRegression\n",
        "from sklearn.preprocessing import StandardScaler\n",
        "import multiprocessing as mp\n",
        "from encrypted import encrypt_chunk, evaluate_chunk\n",
        "from sklearn.datasets import fetch_covtype\n",
        "\n",
        "# Set random seeds for reproducibility\n",
        "random.seed(73)\n",
        "np.random.seed(73)"
      ]
    },
    {
      "cell_type": "markdown",
      "id": "YfstxE0vA2eV",
      "metadata": {
        "id": "YfstxE0vA2eV"
      },
      "source": [
        "You can easily input your own dataset into this structure by replacing the `fetch_covtype()` function with your desired data source (e.g., `pd.read_csv(...)` or any other loading method). The first train_test_split is used to reduce the dataset size to a smaller, more manageable subset (in this case, 5% of the original data) while preserving the class distribution through stratified sampling. This is useful when working with large datasets or for quicker experimentation. The second split performs a standard train-test division on the reduced data to separate training and evaluation sets. Finally, the feature matrix X is standardized using `StandardScaler` to ensure that all features have zero mean and unit variance, which is often beneficial for many machine learning algorithms."
      ]
    },
    {
      "cell_type": "code",
      "execution_count": 4,
      "id": "In-eYX0L9S0Q",
      "metadata": {
        "colab": {
          "base_uri": "https://localhost:8080/"
        },
        "id": "In-eYX0L9S0Q",
        "outputId": "39664549-c481-407b-a080-2e1dd7146d9f"
      },
      "outputs": [
        {
          "name": "stdout",
          "output_type": "stream",
          "text": [
            "############# Data summary (Breast Cancer Dataset) #############\n",
            "X_train has shape: (19463, 54)\n",
            "y_train has shape: (19463,)\n",
            "X_test has shape: (9587, 54)\n",
            "y_test has shape: (9587,)\n",
            "##############################################################\n"
          ]
        }
      ],
      "source": [
        "# --- Data Loading and Preprocessing (Covertype dataset) ---\n",
        "covtype = fetch_covtype()\n",
        "X_full, y_full = covtype.data, covtype.target\n",
        "\n",
        "# Convert to binary classification: class 1 vs others\n",
        "y_full = (y_full == 1).astype(int)\n",
        "\n",
        "# Take 5% of the data with stratified sampling (~30k rows)\n",
        "X, _, y_np, _ = train_test_split(\n",
        "    X_full, y_full,\n",
        "    test_size=0.95,\n",
        "    stratify=y_full,\n",
        "    random_state=42\n",
        ")\n",
        "\n",
        "# Train-test split\n",
        "X_train, X_test, y_train, y_test = train_test_split(\n",
        "    X, y_np, test_size=0.33, random_state=42\n",
        ")\n",
        "\n",
        "# Scale the data\n",
        "scaler = StandardScaler()\n",
        "X_train = scaler.fit_transform(X_train)\n",
        "X_test = scaler.transform(X_test)\n",
        "\n",
        "print(\"############# Data summary (Breast Cancer Dataset) #############\")\n",
        "print(f\"X_train has shape: {X_train.shape}\")\n",
        "print(f\"y_train has shape: {y_train.shape}\")\n",
        "print(f\"X_test has shape: {X_test.shape}\")\n",
        "print(f\"y_test has shape: {y_test.shape}\")\n",
        "print(\"##############################################################\")"
      ]
    },
    {
      "cell_type": "code",
      "execution_count": 5,
      "id": "88aL8dbJ-P6e",
      "metadata": {
        "colab": {
          "base_uri": "https://localhost:8080/"
        },
        "id": "88aL8dbJ-P6e",
        "outputId": "fc87c620-10b2-4563-e741-be994e086fc5"
      },
      "outputs": [
        {
          "name": "stdout",
          "output_type": "stream",
          "text": [
            "\n",
            "Training on plain data...\n",
            "Training finished in 2.06s\n",
            "\n",
            "Evaluating on plain data...\n",
            "Accuracy on plain test data: 0.7652\n",
            "\n",
            "Setting up homomorphic encryption...\n"
          ]
        }
      ],
      "source": [
        "# --- Plain Training (scikit-learn) ---\n",
        "print(\"\\nTraining on plain data...\")\n",
        "lr = LogisticRegression()\n",
        "t_start = time()\n",
        "lr.fit(X_train, y_train)\n",
        "t_end = time()\n",
        "print(f\"Training finished in {t_end - t_start:.2f}s\")\n",
        "\n",
        "# --- Plain Evaluation ---\n",
        "print(\"\\nEvaluating on plain data...\")\n",
        "y_pred_plain = lr.predict(X_test)\n",
        "plain_accuracy = np.mean(y_pred_plain == y_test)\n",
        "print(f\"Accuracy on plain test data: {plain_accuracy:.4f}\")\n",
        "\n",
        "# --- Homomorphic Encryption Setup ---\n",
        "print(\"\\nSetting up homomorphic encryption...\")\n",
        "context = ts.context(ts.SCHEME_TYPE.CKKS, 4096, coeff_mod_bit_sizes=[40, 20, 40])\n",
        "context.global_scale = 2**20\n",
        "context.generate_galois_keys()"
      ]
    },
    {
      "cell_type": "code",
      "execution_count": 6,
      "id": "3f34f4c6",
      "metadata": {
        "colab": {
          "base_uri": "https://localhost:8080/",
          "height": 1000
        },
        "id": "3f34f4c6",
        "outputId": "32041e9b-2fd6-46ae-a237-b2c7143bfecb"
      },
      "outputs": [
        {
          "name": "stdout",
          "output_type": "stream",
          "text": [
            "\n",
            "----- Running Test 1/3 -----\n",
            "Running Sequential...\n",
            "Sequential Time: 116.80s\n",
            "Sequential Accuracy: 0.6397\n",
            "\n",
            "Running Parallel...\n",
            "Parallel Time: 30.69s\n",
            "Parallel Accuracy: 0.6397\n",
            "\n",
            "Comparison:\n",
            "Speedup: 3.8x\n",
            "Accuracy difference: 0.0000\n",
            "\n",
            "----- Running Test 2/3 -----\n",
            "Running Sequential...\n",
            "Sequential Time: 116.91s\n",
            "Sequential Accuracy: 0.6397\n",
            "\n",
            "Running Parallel...\n",
            "Parallel Time: 31.52s\n",
            "Parallel Accuracy: 0.6397\n",
            "\n",
            "Comparison:\n",
            "Speedup: 3.7x\n",
            "Accuracy difference: 0.0000\n",
            "\n",
            "----- Running Test 3/3 -----\n",
            "Running Sequential...\n",
            "Sequential Time: 116.62s\n",
            "Sequential Accuracy: 0.6397\n",
            "\n",
            "Running Parallel...\n",
            "Parallel Time: 32.30s\n",
            "Parallel Accuracy: 0.6397\n",
            "\n",
            "Comparison:\n",
            "Speedup: 3.6x\n",
            "Accuracy difference: 0.0000\n"
          ]
        },
        {
          "data": {
            "image/png": "[encoded data removed]",
            "text/plain": [
              "<Figure size 1200x500 with 2 Axes>"
            ]
          },
          "metadata": {},
          "output_type": "display_data"
        }
      ],
      "source": [
        "# Extract weights and bias from the trained scikit-learn model\n",
        "weight = lr.coef_[0]\n",
        "bias = lr.intercept_[0]\n",
        "\n",
        "# Serialize context for multiprocessing\n",
        "ctx_serialized = context.serialize()\n",
        "\n",
        "# --- Sequential vs. Parallel Comparison ---\n",
        "num_runs = 3\n",
        "seq_times, par_times = [], []\n",
        "seq_accs, par_accs = [], []\n",
        "\n",
        "\n",
        "def sigmoid(x):\n",
        "    return 1 / (1 + np.exp(-x))\n",
        "\n",
        "\n",
        "for i in range(num_runs):\n",
        "    print(f\"\\n----- Running Test {i+1}/{num_runs} -----\")\n",
        "\n",
        "    # --- Sequential Execution ---\n",
        "    print(\"Running Sequential...\")\n",
        "    t_start_seq = time()\n",
        "\n",
        "    # 1. Sequential Encryption\n",
        "    enc_x_test_seq = [ts.ckks_vector(context, x.tolist()) for x in X_test]\n",
        "\n",
        "    # 2. Sequential Evaluation\n",
        "    weight_vec = ts.ckks_vector(context, weight)\n",
        "    bias_vec = ts.ckks_vector(context, [bias])\n",
        "\n",
        "    decrypted_outputs_seq = []\n",
        "    for enc_x in enc_x_test_seq:\n",
        "        out = enc_x.dot(weight_vec) + bias_vec\n",
        "        decrypted_outputs_seq.append(out.decrypt()[0])\n",
        "\n",
        "    t_end_seq = time()\n",
        "    seq_time = t_end_seq - t_start_seq\n",
        "    seq_times.append(seq_time)\n",
        "\n",
        "    decrypted_preds_seq = (sigmoid(np.array(decrypted_outputs_seq)) > 0.5).astype(int)\n",
        "    seq_acc = np.mean(decrypted_preds_seq == y_test)\n",
        "    seq_accs.append(seq_acc)\n",
        "\n",
        "    print(f\"Sequential Time: {seq_time:.2f}s\")\n",
        "    print(f\"Sequential Accuracy: {seq_acc:.4f}\")\n",
        "\n",
        "    # --- Parallel Execution ---\n",
        "    print(\"\\nRunning Parallel...\")\n",
        "    t_start_par = time()\n",
        "\n",
        "    # 1. Parallel Encryption\n",
        "    def parallel_encrypt(data, context_serialized):\n",
        "        n_proc = mp.cpu_count()\n",
        "        chunk_size = -(-len(data) // n_proc)\n",
        "        chunks = [\n",
        "            (context_serialized, data[i : i + chunk_size])\n",
        "            for i in range(0, len(data), chunk_size)\n",
        "        ]\n",
        "        with mp.Pool(n_proc) as p:\n",
        "            encrypted_chunks = p.map(encrypt_chunk, chunks)\n",
        "        return [item for sublist in encrypted_chunks for item in sublist]\n",
        "\n",
        "    enc_x_test_par = parallel_encrypt(X_test, ctx_serialized)\n",
        "\n",
        "    # 2. Parallel Evaluation\n",
        "    def parallel_evaluate(enc_data, y_data, context_serialized, weight, bias):\n",
        "        n_proc = mp.cpu_count()\n",
        "        chunk_size = -(-len(enc_data) // n_proc)\n",
        "        weight_serialized = ts.ckks_vector(context, weight).serialize()\n",
        "        bias_serialized = ts.ckks_vector(context, [bias]).serialize()\n",
        "        chunks = [\n",
        "            (\n",
        "                context_serialized,\n",
        "                weight_serialized,\n",
        "                bias_serialized,\n",
        "                enc_data[i : i + chunk_size],\n",
        "                y_data[i : i + chunk_size],\n",
        "            )\n",
        "            for i in range(0, len(enc_data), chunk_size)\n",
        "        ]\n",
        "        with mp.Pool(n_proc) as p:\n",
        "            results = p.map(evaluate_chunk, chunks)\n",
        "        return results\n",
        "\n",
        "    eval_results_par = parallel_evaluate(\n",
        "        enc_x_test_par, y_test, ctx_serialized, weight, bias\n",
        "    )\n",
        "\n",
        "    decrypted_outputs_par = []\n",
        "    for outputs_chunk, _ in eval_results_par:\n",
        "        for out_ser in outputs_chunk:\n",
        "            out_vec = ts.ckks_vector_from(context, out_ser)\n",
        "            decrypted_outputs_par.append(out_vec.decrypt()[0])\n",
        "\n",
        "    t_end_par = time()\n",
        "    par_time = t_end_par - t_start_par\n",
        "    par_times.append(par_time)\n",
        "\n",
        "    decrypted_preds_par = (sigmoid(np.array(decrypted_outputs_par)) > 0.5).astype(int)\n",
        "    par_acc = np.mean(decrypted_preds_par == y_test)\n",
        "    par_accs.append(par_acc)\n",
        "\n",
        "    print(f\"Parallel Time: {par_time:.2f}s\")\n",
        "    print(f\"Parallel Accuracy: {par_acc:.4f}\")\n",
        "\n",
        "    # 3. Results comparison\n",
        "    print(\"\\nComparison:\")\n",
        "    print(f\"Speedup: {abs(seq_times[-1]/par_times[-1]):.1f}x\")\n",
        "    print(f\"Accuracy difference: {abs(seq_acc - par_acc):.4f}\")\n",
        "\n",
        "# --- Plotting ---\n",
        "runs = np.arange(1, num_runs + 1)\n",
        "plt.figure(figsize=(12, 5))\n",
        "\n",
        "plt.subplot(1, 2, 1)\n",
        "plt.plot(runs, seq_times, marker=\"o\", label=\"Sequential\")\n",
        "plt.plot(runs, par_times, marker=\"o\", label=\"Parallel\")\n",
        "plt.title(\"Total Time per Run\")\n",
        "plt.xlabel(\"Run\")\n",
        "plt.ylabel(\"Time (s)\")\n",
        "plt.legend()\n",
        "\n",
        "plt.subplot(1, 2, 2)\n",
        "plt.plot(runs, seq_accs, marker=\"o\", label=\"Sequential\")\n",
        "plt.plot(runs, par_accs, marker=\"o\", label=\"Parallel\")\n",
        "plt.title(\"Accuracy per Run\")\n",
        "plt.xlabel(\"Run\")\n",
        "plt.ylabel(\"Accuracy\")\n",
        "plt.legend()\n",
        "\n",
        "plt.tight_layout()\n",
        "plt.show()"
      ]
    },
    {
      "cell_type": "code",
      "execution_count": null,
      "id": "bbe576ab",
      "metadata": {},
      "outputs": [],
      "source": [
        "def train_model(X_train, y_train):\n",
        "    lr = LogisticRegression()\n",
        "    lr.fit(X_train, y_train)\n",
        "    return lr\n",
        "\n",
        "def sigmoid(x):\n",
        "    return 1 / (1 + np.exp(-x))\n",
        "\n",
        "def setup_he_context():\n",
        "    context = ts.context(ts.SCHEME_TYPE.CKKS, 4096, coeff_mod_bit_sizes=[40, 20, 40])\n",
        "    context.global_scale = 2**20\n",
        "    context.generate_galois_keys()\n",
        "    return context\n",
        "\n",
        "def encrypt_data(X, context):\n",
        "    return [ts.ckks_vector(context, x.tolist()) for x in X]\n",
        "\n",
        "def evaluate_encrypted(enc_X, weight, bias, context):\n",
        "    weight_vec = ts.ckks_vector(context, weight)\n",
        "    bias_vec = ts.ckks_vector(context, [bias])\n",
        "    outputs = []\n",
        "    for enc_x in enc_X:\n",
        "        out = enc_x.dot(weight_vec) + bias_vec\n",
        "        outputs.append(out)\n",
        "    return outputs\n",
        "\n",
        "def decrypt_outputs(outputs):\n",
        "    return np.array([out.decrypt()[0] for out in outputs])\n",
        "\n",
        "def predict_from_logits(logits):\n",
        "    return (sigmoid(logits) > 0.5).astype(int)"
      ]
    },
    {
      "cell_type": "code",
      "execution_count": 7,
      "id": "d427e2d1",
      "metadata": {},
      "outputs": [],
      "source": [
        "import multiprocessing as mp\n",
        "\n",
        "def parallel_encrypt(X, context_serialized):\n",
        "    n_proc = mp.cpu_count()\n",
        "    chunk_size = -(-len(X) // n_proc)\n",
        "    chunks = [\n",
        "        (context_serialized, X[i : i + chunk_size])\n",
        "        for i in range(0, len(X), chunk_size)\n",
        "    ]\n",
        "    with mp.Pool(n_proc) as p:\n",
        "        encrypted_chunks = p.map(encrypt_chunk, chunks)\n",
        "    # Flatten the list of lists\n",
        "    return [item for sublist in encrypted_chunks for item in sublist]\n",
        "\n",
        "def parallel_evaluate(enc_X, y, context_serialized, weight, bias, context):\n",
        "    n_proc = mp.cpu_count()\n",
        "    chunk_size = -(-len(enc_X) // n_proc)\n",
        "    weight_serialized = ts.ckks_vector(context, weight).serialize()\n",
        "    bias_serialized = ts.ckks_vector(context, [bias]).serialize()\n",
        "    chunks = [\n",
        "        (\n",
        "            context_serialized,\n",
        "            weight_serialized,\n",
        "            bias_serialized,\n",
        "            enc_X[i : i + chunk_size],\n",
        "            y[i : i + chunk_size],\n",
        "        )\n",
        "        for i in range(0, len(enc_X), chunk_size)\n",
        "    ]\n",
        "    with mp.Pool(n_proc) as p:\n",
        "        results = p.map(evaluate_chunk, chunks)\n",
        "    # Flatten outputs\n",
        "    outputs = []\n",
        "    for outputs_chunk, _ in results:\n",
        "        outputs.extend(outputs_chunk)\n",
        "    return outputs\n",
        "\n",
        "def parallel_decrypt(outputs_serialized, context):\n",
        "    # outputs_serialized: list of serialized CKKS vectors\n",
        "    return np.array([\n",
        "        ts.ckks_vector_from(context, out_ser).decrypt()[0]\n",
        "        for out_ser in outputs_serialized\n",
        "    ])"
      ]
    },
    {
      "cell_type": "markdown",
      "id": "e2d0cc7d",
      "metadata": {},
      "source": [
        "## Pipeline Usage\n",
        "This pipeline demonstrates privacy-preserving inference using homomorphic encryption (HE) with logistic regression. Below, each step is explained in detail.\n",
        "1. Train model\n",
        "- train_model(X_train, y_train): Trains a logistic regression model on your training data and returns the fitted model.\n",
        "- weight = lr.coef_[0]: Extracts the learned weights (model coefficients) from the trained logistic regression model. These are used for encrypted inference.\n",
        "- bias = lr.intercept_[0]: Extracts the learned bias (intercept) from the model. \n",
        "  \n",
        "We fit the model to our data and extract the numbers it learned (weights and bias) so we can use them for encrypted predictions.\n",
        "\n",
        "2.  Set up the encryption context\n",
        "We create a special encryption context. Think of this as setting up the “rules” for how encryption and computation will work.\n",
        "\n"
      ]
    },
    {
      "cell_type": "code",
      "execution_count": 10,
      "id": "7161d93c",
      "metadata": {},
      "outputs": [],
      "source": [
        "\n",
        "# Example pipeline usage:\n",
        "# 1. Train model\n",
        "lr = train_model(X_train, y_train)\n",
        "weight = lr.coef_[0]\n",
        "bias = lr.intercept_[0]\n",
        "\n",
        "# 2. Setup HE context\n",
        "context = setup_he_context()"
      ]
    },
    {
      "cell_type": "markdown",
      "id": "09b1be13",
      "metadata": {},
      "source": [
        "3. Encrypt new data (e.g., X_test)\n",
        "Here, we take our test data and encrypt every sample. Now, even if someone sees this data, they can’t read it!\n",
        "\n",
        "1. Evaluate encrypted data\n",
        "We run our model on the encrypted data. The data stays encrypted the whole time—no peeking!\n",
        "\n",
        "1. Decrypt outputs\n",
        "Now we decrypt the model’s outputs (the “logits”) so we can actually see the results.\n",
        "\n",
        "1. Predict and evaluate\n",
        "We turn the decrypted outputs into 0s and 1s (predictions), compare them to the real answers, and print out how accurate we were—even though all the computation happened on encrypted data!"
      ]
    },
    {
      "cell_type": "code",
      "execution_count": null,
      "id": "e095f68a",
      "metadata": {},
      "outputs": [
        {
          "name": "stdout",
          "output_type": "stream",
          "text": [
            "Encrypted accuracy: 0.7555\n"
          ]
        }
      ],
      "source": [
        "\n",
        "# 3. Encrypt new data (e.g., X_test)\n",
        "enc_X_test = encrypt_data(X_test, context)\n",
        "\n",
        "# 4. Evaluate encrypted data\n",
        "outputs = evaluate_encrypted(enc_X_test, weight, bias, context)\n",
        "\n",
        "# 5. Decrypt outputs\n",
        "logits = decrypt_outputs(outputs)\n",
        "\n",
        "# 6. Predict and evaluate\n",
        "preds = predict_from_logits(logits)\n",
        "acc = np.mean(preds == y_test)\n",
        "print(f\"Encrypted accuracy: {acc:.4f}\")\n"
      ]
    },
    {
      "cell_type": "markdown",
      "id": "ba783932",
      "metadata": {},
      "source": [
        "\n",
        "Parallel (Multiprocessing) Pipeline\n",
        "When you have a lot of data, doing everything in a single process can be slow. Here, we use Python’s multiprocessing to speed things up by splitting the work across all available CPU cores. Here’s how it works:\n",
        "\n",
        "1. Serialize the Encryption Context\n",
        "We need to share the encryption context between processes, so we serialize it:\n",
        "\n",
        "This just means we’re making the context portable so each process can use it.\n",
        "\n",
        "2. Parallel Encryption\n",
        "Instead of encrypting each test sample one by one, we split the data into chunks and encrypt them in parallel. This makes the encryption step much faster when you have a lot of data.\n",
        "\n",
        "3. Parallel Evaluation\n",
        "Now, we do the actual model inference (dot product + bias) on the encrypted data, again in parallel. Each process handles a chunk of the encrypted data, using the model’s weights and bias.\n",
        "\n",
        "4. Parallel Decryption\n",
        "After evaluation, the results are still encrypted. We decrypt them in parallel, so this step is also much faster for big datasets.\n",
        "\n",
        "5. Predict and Evaluate\n",
        "Finally, we turn the decrypted model outputs into binary predictions (0 or 1) and check how accurate they are compared to the true labels.\n",
        "\n"
      ]
    },
    {
      "cell_type": "code",
      "execution_count": 9,
      "id": "eed901b2",
      "metadata": {},
      "outputs": [
        {
          "name": "stdout",
          "output_type": "stream",
          "text": [
            "Parallel encrypted accuracy: 0.7556\n"
          ]
        }
      ],
      "source": [
        "\n",
        "# Serializacja kontekstu do multiprocessing\n",
        "ctx_serialized = context.serialize()\n",
        "\n",
        "# 1. Parallel encryption\n",
        "enc_X_test_par = parallel_encrypt(X_test, ctx_serialized)\n",
        "\n",
        "# 2. Parallel evaluation\n",
        "outputs_serialized = parallel_evaluate(enc_X_test_par, y_test, ctx_serialized, weight, bias, context)\n",
        "\n",
        "# 3. Parallel decryption\n",
        "logits_par = parallel_decrypt(outputs_serialized, context)\n",
        "\n",
        "# 4. Predict and evaluate\n",
        "preds_par = predict_from_logits(logits_par)\n",
        "acc_par = np.mean(preds_par == y_test)\n",
        "print(f\"Parallel encrypted accuracy: {acc_par:.4f}\")"
      ]
    }
  ],
  "metadata": {
    "accelerator": "GPU",
    "colab": {
      "gpuType": "A100",
      "machine_shape": "hm",
      "provenance": []
    },
    "kernelspec": {
      "display_name": "krypto",
      "language": "python",
      "name": "python3"
    },
    "language_info": {
      "codemirror_mode": {
        "name": "ipython",
        "version": 3
      },
      "file_extension": ".py",
      "mimetype": "text/x-python",
      "name": "python",
      "nbconvert_exporter": "python",
      "pygments_lexer": "ipython3",
      "version": "3.9.21"
    }
  },
  "nbformat": 4,
  "nbformat_minor": 5
}
